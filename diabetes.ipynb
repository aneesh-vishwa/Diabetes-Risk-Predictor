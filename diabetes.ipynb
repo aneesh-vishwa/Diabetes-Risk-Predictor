{
 "cells": [
  {
   "cell_type": "markdown",
   "metadata": {},
   "source": [
    "# Description:                                                                                                                   \n",
    "The objective of the dataset is to predict whether or not a patient has diabetes, based on certain diagnostic measurements included in the dataset. The datasets consists of several medical predictor variables and one target variable, Outcome. Predictor variables includes the number of pregnancies the patient has had, their BMI, insulin level, age, and so on.\n",
    "\n",
    "Dataset url : https://www.kaggle.com/uciml/pima-indians-diabetes-database"
   ]
  },
  {
   "cell_type": "markdown",
   "metadata": {},
   "source": [
    "# Step 0: Import libraries and Dataset"
   ]
  },
  {
   "cell_type": "code",
   "execution_count": 2,
   "metadata": {},
   "outputs": [],
   "source": [
    "# Importing libraries\n",
    "import pandas as pd \n",
    "import numpy as np\n",
    "import matplotlib.pyplot as plt\n",
    "import seaborn as sns\n",
    "\n"
   ]
  },
  {
   "cell_type": "code",
   "execution_count": 3,
   "metadata": {},
   "outputs": [],
   "source": [
    "dataset = pd.read_csv('encoded_dataset.csv')\n"
   ]
  },
  {
   "cell_type": "markdown",
   "metadata": {},
   "source": [
    "# Step 1: Descriptive Statistics"
   ]
  },
  {
   "cell_type": "code",
   "execution_count": 4,
   "metadata": {},
   "outputs": [
    {
     "data": {
      "text/html": [
       "<div>\n",
       "<style scoped>\n",
       "    .dataframe tbody tr th:only-of-type {\n",
       "        vertical-align: middle;\n",
       "    }\n",
       "\n",
       "    .dataframe tbody tr th {\n",
       "        vertical-align: top;\n",
       "    }\n",
       "\n",
       "    .dataframe thead th {\n",
       "        text-align: right;\n",
       "    }\n",
       "</style>\n",
       "<table border=\"1\" class=\"dataframe\">\n",
       "  <thead>\n",
       "    <tr style=\"text-align: right;\">\n",
       "      <th></th>\n",
       "      <th>age</th>\n",
       "      <th>hypertension</th>\n",
       "      <th>heart_disease</th>\n",
       "      <th>bmi</th>\n",
       "      <th>HbA1c_level</th>\n",
       "      <th>blood_glucose_level</th>\n",
       "      <th>gender_Female</th>\n",
       "      <th>gender_Male</th>\n",
       "      <th>gender_Other</th>\n",
       "      <th>smoking_history_No Info</th>\n",
       "      <th>smoking_history_current</th>\n",
       "      <th>smoking_history_ever</th>\n",
       "      <th>smoking_history_former</th>\n",
       "      <th>smoking_history_never</th>\n",
       "      <th>smoking_history_not current</th>\n",
       "      <th>diabetes</th>\n",
       "    </tr>\n",
       "  </thead>\n",
       "  <tbody>\n",
       "    <tr>\n",
       "      <th>0</th>\n",
       "      <td>80.0</td>\n",
       "      <td>0</td>\n",
       "      <td>1</td>\n",
       "      <td>25.19</td>\n",
       "      <td>6.6</td>\n",
       "      <td>140.0</td>\n",
       "      <td>True</td>\n",
       "      <td>False</td>\n",
       "      <td>False</td>\n",
       "      <td>False</td>\n",
       "      <td>False</td>\n",
       "      <td>False</td>\n",
       "      <td>False</td>\n",
       "      <td>True</td>\n",
       "      <td>False</td>\n",
       "      <td>0</td>\n",
       "    </tr>\n",
       "    <tr>\n",
       "      <th>1</th>\n",
       "      <td>54.0</td>\n",
       "      <td>0</td>\n",
       "      <td>0</td>\n",
       "      <td>27.32</td>\n",
       "      <td>6.6</td>\n",
       "      <td>80.0</td>\n",
       "      <td>True</td>\n",
       "      <td>False</td>\n",
       "      <td>False</td>\n",
       "      <td>True</td>\n",
       "      <td>False</td>\n",
       "      <td>False</td>\n",
       "      <td>False</td>\n",
       "      <td>False</td>\n",
       "      <td>False</td>\n",
       "      <td>0</td>\n",
       "    </tr>\n",
       "    <tr>\n",
       "      <th>2</th>\n",
       "      <td>28.0</td>\n",
       "      <td>0</td>\n",
       "      <td>0</td>\n",
       "      <td>27.32</td>\n",
       "      <td>5.7</td>\n",
       "      <td>158.0</td>\n",
       "      <td>False</td>\n",
       "      <td>True</td>\n",
       "      <td>False</td>\n",
       "      <td>False</td>\n",
       "      <td>False</td>\n",
       "      <td>False</td>\n",
       "      <td>False</td>\n",
       "      <td>True</td>\n",
       "      <td>False</td>\n",
       "      <td>0</td>\n",
       "    </tr>\n",
       "    <tr>\n",
       "      <th>3</th>\n",
       "      <td>76.0</td>\n",
       "      <td>1</td>\n",
       "      <td>1</td>\n",
       "      <td>20.14</td>\n",
       "      <td>4.8</td>\n",
       "      <td>155.0</td>\n",
       "      <td>False</td>\n",
       "      <td>True</td>\n",
       "      <td>False</td>\n",
       "      <td>False</td>\n",
       "      <td>True</td>\n",
       "      <td>False</td>\n",
       "      <td>False</td>\n",
       "      <td>False</td>\n",
       "      <td>False</td>\n",
       "      <td>0</td>\n",
       "    </tr>\n",
       "    <tr>\n",
       "      <th>4</th>\n",
       "      <td>20.0</td>\n",
       "      <td>0</td>\n",
       "      <td>0</td>\n",
       "      <td>27.32</td>\n",
       "      <td>6.6</td>\n",
       "      <td>85.0</td>\n",
       "      <td>True</td>\n",
       "      <td>False</td>\n",
       "      <td>False</td>\n",
       "      <td>False</td>\n",
       "      <td>False</td>\n",
       "      <td>False</td>\n",
       "      <td>False</td>\n",
       "      <td>True</td>\n",
       "      <td>False</td>\n",
       "      <td>0</td>\n",
       "    </tr>\n",
       "  </tbody>\n",
       "</table>\n",
       "</div>"
      ],
      "text/plain": [
       "    age  hypertension  heart_disease    bmi  HbA1c_level  blood_glucose_level  \\\n",
       "0  80.0             0              1  25.19          6.6                140.0   \n",
       "1  54.0             0              0  27.32          6.6                 80.0   \n",
       "2  28.0             0              0  27.32          5.7                158.0   \n",
       "3  76.0             1              1  20.14          4.8                155.0   \n",
       "4  20.0             0              0  27.32          6.6                 85.0   \n",
       "\n",
       "   gender_Female  gender_Male  gender_Other  smoking_history_No Info  \\\n",
       "0           True        False         False                    False   \n",
       "1           True        False         False                     True   \n",
       "2          False         True         False                    False   \n",
       "3          False         True         False                    False   \n",
       "4           True        False         False                    False   \n",
       "\n",
       "   smoking_history_current  smoking_history_ever  smoking_history_former  \\\n",
       "0                    False                 False                   False   \n",
       "1                    False                 False                   False   \n",
       "2                    False                 False                   False   \n",
       "3                     True                 False                   False   \n",
       "4                    False                 False                   False   \n",
       "\n",
       "   smoking_history_never  smoking_history_not current  diabetes  \n",
       "0                   True                        False         0  \n",
       "1                  False                        False         0  \n",
       "2                   True                        False         0  \n",
       "3                  False                        False         0  \n",
       "4                   True                        False         0  "
      ]
     },
     "execution_count": 4,
     "metadata": {},
     "output_type": "execute_result"
    }
   ],
   "source": [
    "# Preview data\n",
    "dataset.head()"
   ]
  },
  {
   "cell_type": "code",
   "execution_count": 5,
   "metadata": {},
   "outputs": [
    {
     "data": {
      "text/plain": [
       "(99755, 16)"
      ]
     },
     "execution_count": 5,
     "metadata": {},
     "output_type": "execute_result"
    }
   ],
   "source": [
    "# Dataset dimensions - (rows, columns)\n",
    "dataset.shape"
   ]
  },
  {
   "cell_type": "code",
   "execution_count": 6,
   "metadata": {},
   "outputs": [
    {
     "name": "stdout",
     "output_type": "stream",
     "text": [
      "<class 'pandas.core.frame.DataFrame'>\n",
      "RangeIndex: 99755 entries, 0 to 99754\n",
      "Data columns (total 16 columns):\n",
      " #   Column                       Non-Null Count  Dtype  \n",
      "---  ------                       --------------  -----  \n",
      " 0   age                          99755 non-null  float64\n",
      " 1   hypertension                 99755 non-null  int64  \n",
      " 2   heart_disease                99755 non-null  int64  \n",
      " 3   bmi                          99755 non-null  float64\n",
      " 4   HbA1c_level                  99755 non-null  float64\n",
      " 5   blood_glucose_level          99755 non-null  float64\n",
      " 6   gender_Female                99755 non-null  bool   \n",
      " 7   gender_Male                  99755 non-null  bool   \n",
      " 8   gender_Other                 99755 non-null  bool   \n",
      " 9   smoking_history_No Info      99755 non-null  bool   \n",
      " 10  smoking_history_current      99755 non-null  bool   \n",
      " 11  smoking_history_ever         99755 non-null  bool   \n",
      " 12  smoking_history_former       99755 non-null  bool   \n",
      " 13  smoking_history_never        99755 non-null  bool   \n",
      " 14  smoking_history_not current  99755 non-null  bool   \n",
      " 15  diabetes                     99755 non-null  int64  \n",
      "dtypes: bool(9), float64(4), int64(3)\n",
      "memory usage: 6.2 MB\n"
     ]
    }
   ],
   "source": [
    "# Features data-type\n",
    "dataset.info()"
   ]
  },
  {
   "cell_type": "code",
   "execution_count": 7,
   "metadata": {},
   "outputs": [
    {
     "data": {
      "text/html": [
       "<div>\n",
       "<style scoped>\n",
       "    .dataframe tbody tr th:only-of-type {\n",
       "        vertical-align: middle;\n",
       "    }\n",
       "\n",
       "    .dataframe tbody tr th {\n",
       "        vertical-align: top;\n",
       "    }\n",
       "\n",
       "    .dataframe thead th {\n",
       "        text-align: right;\n",
       "    }\n",
       "</style>\n",
       "<table border=\"1\" class=\"dataframe\">\n",
       "  <thead>\n",
       "    <tr style=\"text-align: right;\">\n",
       "      <th></th>\n",
       "      <th>count</th>\n",
       "      <th>mean</th>\n",
       "      <th>std</th>\n",
       "      <th>min</th>\n",
       "      <th>25%</th>\n",
       "      <th>50%</th>\n",
       "      <th>75%</th>\n",
       "      <th>max</th>\n",
       "    </tr>\n",
       "  </thead>\n",
       "  <tbody>\n",
       "    <tr>\n",
       "      <th>age</th>\n",
       "      <td>99755.0</td>\n",
       "      <td>41.887736</td>\n",
       "      <td>22.517793</td>\n",
       "      <td>0.08</td>\n",
       "      <td>24.00</td>\n",
       "      <td>43.00</td>\n",
       "      <td>60.00</td>\n",
       "      <td>80.00</td>\n",
       "    </tr>\n",
       "    <tr>\n",
       "      <th>hypertension</th>\n",
       "      <td>99755.0</td>\n",
       "      <td>0.074863</td>\n",
       "      <td>0.263172</td>\n",
       "      <td>0.00</td>\n",
       "      <td>0.00</td>\n",
       "      <td>0.00</td>\n",
       "      <td>0.00</td>\n",
       "      <td>1.00</td>\n",
       "    </tr>\n",
       "    <tr>\n",
       "      <th>heart_disease</th>\n",
       "      <td>99755.0</td>\n",
       "      <td>0.039397</td>\n",
       "      <td>0.194537</td>\n",
       "      <td>0.00</td>\n",
       "      <td>0.00</td>\n",
       "      <td>0.00</td>\n",
       "      <td>0.00</td>\n",
       "      <td>1.00</td>\n",
       "    </tr>\n",
       "    <tr>\n",
       "      <th>bmi</th>\n",
       "      <td>99755.0</td>\n",
       "      <td>27.322577</td>\n",
       "      <td>6.639739</td>\n",
       "      <td>10.01</td>\n",
       "      <td>23.63</td>\n",
       "      <td>27.32</td>\n",
       "      <td>29.58</td>\n",
       "      <td>95.69</td>\n",
       "    </tr>\n",
       "    <tr>\n",
       "      <th>HbA1c_level</th>\n",
       "      <td>99755.0</td>\n",
       "      <td>5.527432</td>\n",
       "      <td>1.070794</td>\n",
       "      <td>3.50</td>\n",
       "      <td>4.80</td>\n",
       "      <td>5.80</td>\n",
       "      <td>6.20</td>\n",
       "      <td>9.00</td>\n",
       "    </tr>\n",
       "    <tr>\n",
       "      <th>blood_glucose_level</th>\n",
       "      <td>99755.0</td>\n",
       "      <td>138.056057</td>\n",
       "      <td>40.707680</td>\n",
       "      <td>80.00</td>\n",
       "      <td>100.00</td>\n",
       "      <td>140.00</td>\n",
       "      <td>159.00</td>\n",
       "      <td>300.00</td>\n",
       "    </tr>\n",
       "    <tr>\n",
       "      <th>diabetes</th>\n",
       "      <td>99755.0</td>\n",
       "      <td>0.085058</td>\n",
       "      <td>0.278970</td>\n",
       "      <td>0.00</td>\n",
       "      <td>0.00</td>\n",
       "      <td>0.00</td>\n",
       "      <td>0.00</td>\n",
       "      <td>1.00</td>\n",
       "    </tr>\n",
       "  </tbody>\n",
       "</table>\n",
       "</div>"
      ],
      "text/plain": [
       "                       count        mean        std    min     25%     50%  \\\n",
       "age                  99755.0   41.887736  22.517793   0.08   24.00   43.00   \n",
       "hypertension         99755.0    0.074863   0.263172   0.00    0.00    0.00   \n",
       "heart_disease        99755.0    0.039397   0.194537   0.00    0.00    0.00   \n",
       "bmi                  99755.0   27.322577   6.639739  10.01   23.63   27.32   \n",
       "HbA1c_level          99755.0    5.527432   1.070794   3.50    4.80    5.80   \n",
       "blood_glucose_level  99755.0  138.056057  40.707680  80.00  100.00  140.00   \n",
       "diabetes             99755.0    0.085058   0.278970   0.00    0.00    0.00   \n",
       "\n",
       "                        75%     max  \n",
       "age                   60.00   80.00  \n",
       "hypertension           0.00    1.00  \n",
       "heart_disease          0.00    1.00  \n",
       "bmi                   29.58   95.69  \n",
       "HbA1c_level            6.20    9.00  \n",
       "blood_glucose_level  159.00  300.00  \n",
       "diabetes               0.00    1.00  "
      ]
     },
     "execution_count": 7,
     "metadata": {},
     "output_type": "execute_result"
    }
   ],
   "source": [
    "# Statistical summary\n",
    "dataset.describe().T"
   ]
  },
  {
   "cell_type": "markdown",
   "metadata": {},
   "source": [
    "# Step 3: Data Preprocessing"
   ]
  },
  {
   "cell_type": "code",
   "execution_count": 8,
   "metadata": {},
   "outputs": [
    {
     "data": {
      "text/plain": [
       "age                            0\n",
       "hypertension                   0\n",
       "heart_disease                  0\n",
       "bmi                            0\n",
       "HbA1c_level                    0\n",
       "blood_glucose_level            0\n",
       "gender_Female                  0\n",
       "gender_Male                    0\n",
       "gender_Other                   0\n",
       "smoking_history_No Info        0\n",
       "smoking_history_current        0\n",
       "smoking_history_ever           0\n",
       "smoking_history_former         0\n",
       "smoking_history_never          0\n",
       "smoking_history_not current    0\n",
       "diabetes                       0\n",
       "dtype: int64"
      ]
     },
     "execution_count": 8,
     "metadata": {},
     "output_type": "execute_result"
    }
   ],
   "source": [
    "# Count of null values\n",
    "dataset.isnull().sum()"
   ]
  },
  {
   "cell_type": "code",
   "execution_count": 9,
   "metadata": {},
   "outputs": [],
   "source": [
    "from sklearn.model_selection import train_test_split\n",
    "\n",
    "X = dataset.iloc[:, :-1].values\n",
    "y = dataset.iloc[:, -1].values\n",
    "\n",
    "X_train, X_test, y_train, y_test = train_test_split(X, y, test_size = 0.2, random_state = 1)"
   ]
  },
  {
   "cell_type": "code",
   "execution_count": 10,
   "metadata": {},
   "outputs": [
    {
     "name": "stdout",
     "output_type": "stream",
     "text": [
      "[[80.0 1 0 ... True False False]\n",
      " [61.0 0 0 ... False True False]\n",
      " [16.0 0 0 ... False False False]\n",
      " ...\n",
      " [73.0 0 0 ... True False False]\n",
      " [3.0 0 0 ... False True False]\n",
      " [51.0 0 0 ... True False False]]\n"
     ]
    }
   ],
   "source": [
    "print(X_train)"
   ]
  },
  {
   "cell_type": "code",
   "execution_count": 11,
   "metadata": {},
   "outputs": [
    {
     "name": "stdout",
     "output_type": "stream",
     "text": [
      "(79804, 15)\n"
     ]
    }
   ],
   "source": [
    "print(X_train.shape)"
   ]
  },
  {
   "cell_type": "markdown",
   "metadata": {},
   "source": [
    "# Step 4: Data Modelling"
   ]
  },
  {
   "cell_type": "code",
   "execution_count": 12,
   "metadata": {},
   "outputs": [
    {
     "name": "stdout",
     "output_type": "stream",
     "text": [
      "Model trained successfully after removing rows with missing values.\n"
     ]
    },
    {
     "name": "stderr",
     "output_type": "stream",
     "text": [
      "C:\\Users\\ANEESH VISHWA\\AppData\\Roaming\\Python\\Python312\\site-packages\\sklearn\\linear_model\\_logistic.py:469: ConvergenceWarning: lbfgs failed to converge (status=1):\n",
      "STOP: TOTAL NO. of ITERATIONS REACHED LIMIT.\n",
      "\n",
      "Increase the number of iterations (max_iter) or scale the data as shown in:\n",
      "    https://scikit-learn.org/stable/modules/preprocessing.html\n",
      "Please also refer to the documentation for alternative solver options:\n",
      "    https://scikit-learn.org/stable/modules/linear_model.html#logistic-regression\n",
      "  n_iter_i = _check_optimize_result(\n"
     ]
    }
   ],
   "source": [
    "from sklearn.linear_model import LogisticRegression\n",
    "import pandas as pd\n",
    "import numpy as np\n",
    "\n",
    "# Preprocess the dataset to remove rows with NaN or undefined values\n",
    "def preprocess_data(X, y):\n",
    "    # Combine features and labels into a single DataFrame for easy manipulation\n",
    "    data = pd.concat([pd.DataFrame(X), pd.Series(y, name=\"label\")], axis=1)\n",
    "\n",
    "    # Remove rows with any NaN or undefined values\n",
    "    data = data.dropna()\n",
    "\n",
    "    # Split back into features and labels\n",
    "    X_clean = data.iloc[:, :-1].values\n",
    "    y_clean = data.iloc[:, -1].values\n",
    "\n",
    "    return X_clean, y_clean\n",
    "\n",
    "# Apply preprocessing to training data\n",
    "X_train_clean, y_train_clean = preprocess_data(X_train, y_train)\n",
    "\n",
    "# Initialize the Logistic Regression model\n",
    "logreg = LogisticRegression(random_state=42)\n",
    "\n",
    "# Train the model on the cleaned data\n",
    "logreg.fit(X_train_clean, y_train_clean)\n",
    "\n",
    "print(\"Model trained successfully after removing rows with missing values.\")\n"
   ]
  },
  {
   "cell_type": "code",
   "execution_count": 13,
   "metadata": {},
   "outputs": [],
   "source": [
    "# # from sklearn import metrics\n",
    "# # from sklearn.neighbors import KNeighborsClassifier\n",
    "# # import pandas as pd\n",
    "# # import matplotlib.pyplot as plt\n",
    "\n",
    "# # # Function to preprocess data: remove rows with NaN or undefined values\n",
    "# # def preprocess_data(X, y):\n",
    "# #     # Combine features and labels into a single DataFrame\n",
    "# #     data = pd.concat([pd.DataFrame(X), pd.Series(y, name=\"label\")], axis=1)\n",
    "\n",
    "# #     # Remove rows with any NaN or undefined values\n",
    "# #     data = data.dropna()\n",
    "\n",
    "# #     # Split back into features and labels\n",
    "# #     X_clean = data.iloc[:, :-1].values\n",
    "# #     y_clean = data.iloc[:, -1].values\n",
    "\n",
    "# #     return X_clean, y_clean\n",
    "\n",
    "# # # Preprocess training and testing data\n",
    "# # X_train_clean, y_train_clean = preprocess_data(X_train, y_train)\n",
    "# # X_test_clean, y_test_clean = preprocess_data(X_test, y_test)\n",
    "\n",
    "# # # Range of neighbors to evaluate\n",
    "# # X_axis = list(range(1, 31))\n",
    "# # acc = []  # Using a list to store accuracy values\n",
    "\n",
    "# # # Loop through different values of n_neighbors\n",
    "# # for i in X_axis:\n",
    "# #     knn_model = KNeighborsClassifier(n_neighbors=i)\n",
    "# #     knn_model.fit(X_train_clean, y_train_clean)  # Train on cleaned data\n",
    "# #     prediction = knn_model.predict(X_test_clean)  # Predict on cleaned test data\n",
    "# #     acc.append(metrics.accuracy_score(y_test_clean, prediction))  # Append accuracy\n",
    "\n",
    "# # # Convert accuracy list to Pandas Series for better analysis\n",
    "# # acc = pd.Series(acc)\n",
    "\n",
    "# # # Plot the accuracy against n_neighbors\n",
    "# # plt.plot(X_axis, acc, marker='o', linestyle='-', color='b')\n",
    "# # plt.xticks(X_axis, rotation=90)\n",
    "# # plt.title(\"Finding Best Value for n_neighbors\")\n",
    "# # plt.xlabel(\"n_neighbors\")\n",
    "# # plt.ylabel(\"Accuracy\")\n",
    "# # plt.grid(True)\n",
    "# plt.show()\n",
    "\n",
    "# # # Print the highest accuracy\n",
    "# # print(\"Highest accuracy:\", acc.max())\n"
   ]
  },
  {
   "cell_type": "code",
   "execution_count": 14,
   "metadata": {},
   "outputs": [
    {
     "name": "stdout",
     "output_type": "stream",
     "text": [
      "Accuracy: 95.39%\n"
     ]
    }
   ],
   "source": [
    "from sklearn.neighbors import KNeighborsClassifier\n",
    "import pandas as pd\n",
    "import numpy as np\n",
    "\n",
    "# Preprocess function to remove rows with NaN values\n",
    "def preprocess_data(X, y):\n",
    "    # Combine features and labels into a single DataFrame\n",
    "    data = pd.concat([pd.DataFrame(X), pd.Series(y, name=\"label\")], axis=1)\n",
    "\n",
    "    # Remove rows with any NaN values\n",
    "    data = data.dropna()\n",
    "\n",
    "    # Split back into features and labels\n",
    "    X_clean = data.iloc[:, :-1].values\n",
    "    y_clean = data.iloc[:, -1].values\n",
    "\n",
    "    return X_clean, y_clean\n",
    "\n",
    "# Apply preprocessing\n",
    "X_train_clean, y_train_clean = preprocess_data(X_train, y_train)\n",
    "\n",
    "# Define and train the KNeighborsClassifier\n",
    "knn = KNeighborsClassifier(n_neighbors=24, metric='minkowski', p=2)\n",
    "knn.fit(X_train_clean, y_train_clean)\n",
    "\n",
    "# If you have a test set, preprocess it similarly\n",
    "X_test_clean, y_test_clean = preprocess_data(X_test, y_test)\n",
    "\n",
    "# Make predictions\n",
    "predictions = knn.predict(X_test_clean)\n",
    "\n",
    "# Evaluate the model\n",
    "from sklearn.metrics import accuracy_score\n",
    "accuracy = accuracy_score(y_test_clean, predictions)\n",
    "print(f\"Accuracy: {accuracy * 100:.2f}%\")\n"
   ]
  },
  {
   "cell_type": "code",
   "execution_count": 15,
   "metadata": {},
   "outputs": [],
   "source": [
    "class SVM:\n",
    "    def __init__(self, learning_rate=0.001, lambda_param=0.01, n_iters=1000):\n",
    "        self.learning_rate = learning_rate\n",
    "        self.lambda_param = lambda_param\n",
    "        self.n_iters = n_iters\n",
    "        self.w = None\n",
    "        self.b = None\n",
    "\n",
    "    def fit(self, X, y):\n",
    "        # Convert labels from (0, 1) to (-1, 1)\n",
    "        y = np.where(y == 0, -1, 1)\n",
    "        \n",
    "        # Initialize weights and bias\n",
    "        n_samples, n_features = X.shape\n",
    "        self.w = np.zeros(n_features)\n",
    "        self.b = 0\n",
    "\n",
    "        # Gradient Descent\n",
    "        for _ in range(self.n_iters):\n",
    "            for idx, x_i in enumerate(X):\n",
    "                condition = y[idx] * (np.dot(x_i, self.w) - self.b) >= 1\n",
    "                if condition:\n",
    "                    # If condition is satisfied, apply only regularization\n",
    "                    self.w -= self.learning_rate * (2 * self.lambda_param * self.w)\n",
    "                else:\n",
    "                    # If condition is not satisfied, update weights and bias\n",
    "                    self.w -= self.learning_rate * (2 * self.lambda_param * self.w - np.dot(x_i, y[idx]))\n",
    "                    self.b -= self.learning_rate * y[idx]\n",
    "\n",
    "    def predict(self, X):\n",
    "        # Prediction is based on the sign of (w.x - b)\n",
    "        approx = np.dot(X, self.w) - self.b\n",
    "        return np.sign(approx)\n"
   ]
  },
  {
   "cell_type": "code",
   "execution_count": 16,
   "metadata": {},
   "outputs": [
    {
     "name": "stdout",
     "output_type": "stream",
     "text": [
      "Accuracy: 96.10%\n"
     ]
    }
   ],
   "source": [
    "from sklearn.svm import LinearSVC\n",
    "from sklearn.metrics import accuracy_score\n",
    "\n",
    "# Initialize the LinearSVC model with a lower C value for more regularization\n",
    "svm = LinearSVC(C=0.1, random_state=42, max_iter=1000)  # Reduced C to increase regularization\n",
    "\n",
    "# Fit the SVM model to the training data\n",
    "svm.fit(X_train, y_train)\n",
    "\n",
    "# Make predictions and evaluate the model\n",
    "predictions = svm.predict(X_test)\n",
    "\n",
    "# Calculate accuracy\n",
    "accuracy = accuracy_score(y_test, predictions)\n",
    "print(f\"Accuracy: {accuracy * 100:.2f}%\")\n",
    "\n"
   ]
  },
  {
   "cell_type": "code",
   "execution_count": 17,
   "metadata": {},
   "outputs": [
    {
     "name": "stderr",
     "output_type": "stream",
     "text": [
      "C:\\Users\\ANEESH VISHWA\\AppData\\Roaming\\Python\\Python312\\site-packages\\tqdm\\auto.py:21: TqdmWarning: IProgress not found. Please update jupyter and ipywidgets. See https://ipywidgets.readthedocs.io/en/stable/user_install.html\n",
      "  from .autonotebook import tqdm as notebook_tqdm\n"
     ]
    }
   ],
   "source": [
    "import joblib\n",
    "import shap"
   ]
  },
  {
   "cell_type": "code",
   "execution_count": 18,
   "metadata": {},
   "outputs": [],
   "source": [
    "feature_names = [\n",
    "    'age', 'hypertension', 'heart_disease', 'bmi', 'HbA1c_level', 'blood_glucose_level',\n",
    "    'gender_Female', 'gender_Male', 'gender_Other',\n",
    "    'smoking_history_No Info', 'smoking_history_current', 'smoking_history_ever',\n",
    "    'smoking_history_former', 'smoking_history_never', 'smoking_history_not current'\n",
    "]\n",
    "\n",
    "X_test_original = pd.DataFrame(X_test, columns=feature_names)\n"
   ]
  },
  {
   "cell_type": "code",
   "execution_count": 19,
   "metadata": {},
   "outputs": [
    {
     "name": "stderr",
     "output_type": "stream",
     "text": [
      "Using 79804 background data samples could cause slower run times. Consider using shap.sample(data, K) or shap.kmeans(data, K) to summarize the background as K samples.\n"
     ]
    }
   ],
   "source": [
    "explainer = shap.KernelExplainer(svm.predict, X_train)"
   ]
  },
  {
   "cell_type": "code",
   "execution_count": 20,
   "metadata": {},
   "outputs": [
    {
     "name": "stdout",
     "output_type": "stream",
     "text": [
      "Accuracy: 93.50%\n"
     ]
    },
    {
     "name": "stderr",
     "output_type": "stream",
     "text": [
      "100%|██████████| 100/100 [01:44<00:00,  1.04s/it]\n"
     ]
    },
    {
     "data": {
      "image/png": "[encoded data removed]",
      "text/plain": [
       "<Figure size 800x750 with 2 Axes>"
      ]
     },
     "metadata": {},
     "output_type": "display_data"
    }
   ],
   "source": [
    "import shap\n",
    "import pandas as pd\n",
    "from sklearn.svm import SVC\n",
    "from sklearn.model_selection import train_test_split\n",
    "from sklearn.metrics import accuracy_score\n",
    "\n",
    "# Load dataset\n",
    "X = pd.read_csv(\"encoded_dataset.csv\")  # Your dataset here\n",
    "y = X.pop('diabetes')  # Assume 'diabetes' is the target column\n",
    "\n",
    "# Subsample the data for faster processing\n",
    "X_subsample = X.sample(n=1000, random_state=42)  # Reduce data size to 1000 rows\n",
    "y_subsample = y[X_subsample.index]  # Align target variable with the subsampled data\n",
    "\n",
    "# Split the data into train and test sets (only for the subsampled data)\n",
    "X_train, X_test, y_train, y_test = train_test_split(X_subsample, y_subsample, test_size=0.2, random_state=42)\n",
    "\n",
    "# Initialize and train the SVM model (using only a subsampled dataset)\n",
    "svm = SVC(kernel='linear', C=1, random_state=42)\n",
    "svm.fit(X_train, y_train)\n",
    "\n",
    "predictions = svm.predict(X_test)\n",
    "accuracy = accuracy_score(y_test, predictions)\n",
    "print(f\"Accuracy: {accuracy * 100:.2f}%\")\n",
    "\n",
    "# Reduce the background dataset for SHAP\n",
    "X_train_subsample = X_train.sample(n=100, random_state=42)  # Further reduce the training set for SHAP\n",
    "\n",
    "# Use KernelExplainer with a reduced number of background samples and fewer SHAP samples\n",
    "explainer = shap.KernelExplainer(svm.predict, X_train_subsample, nsamples=50)  # Reduce the number of SHAP samples\n",
    "\n",
    "# Calculate SHAP values for a smaller test set (optional: reduce the test set size as well)\n",
    "X_test_subsample = X_test.sample(n=100, random_state=42)  # Further reduce the test set for SHAP\n",
    "shap_values = explainer.shap_values(X_test_subsample)\n",
    "\n",
    "# Visualize SHAP values (for example, summary plot)\n",
    "shap.summary_plot(shap_values, X_test_subsample)\n",
    "\n",
    "# A SHAP summary plot is generated to visually represent the feature importances across the test samples.\n",
    "# The plot shows how much each feature contributes to the predicted outcome, highlighting the most impactful features"
   ]
  },
  {
   "cell_type": "code",
   "execution_count": 21,
   "metadata": {},
   "outputs": [
    {
     "name": "stderr",
     "output_type": "stream",
     "text": [
      "100%|██████████| 100/100 [01:52<00:00,  1.13s/it]"
     ]
    },
    {
     "name": "stdout",
     "output_type": "stream",
     "text": [
      "['blood_glucose_level', 'HbA1c_level', 'blood_glucose_level', 'hypertension', 'blood_glucose_level', 'HbA1c_level', 'HbA1c_level', 'blood_glucose_level', 'HbA1c_level', 'HbA1c_level', 'blood_glucose_level', 'HbA1c_level', 'hypertension', 'HbA1c_level', 'blood_glucose_level', 'HbA1c_level', 'hypertension', 'HbA1c_level', 'blood_glucose_level', 'hypertension', 'blood_glucose_level', 'HbA1c_level', 'blood_glucose_level', 'hypertension', 'age', 'HbA1c_level', 'blood_glucose_level', 'HbA1c_level', 'blood_glucose_level', 'HbA1c_level', 'HbA1c_level', 'HbA1c_level', 'HbA1c_level', 'HbA1c_level', 'HbA1c_level', 'hypertension', 'hypertension', 'HbA1c_level', 'HbA1c_level', 'HbA1c_level', 'blood_glucose_level', 'HbA1c_level', 'HbA1c_level', 'HbA1c_level', 'blood_glucose_level', 'HbA1c_level', 'HbA1c_level', 'smoking_history_ever', 'HbA1c_level', 'blood_glucose_level', 'blood_glucose_level', 'blood_glucose_level', 'HbA1c_level', 'blood_glucose_level', 'hypertension', 'HbA1c_level', 'hypertension', 'HbA1c_level', 'HbA1c_level', 'smoking_history_ever', 'blood_glucose_level', 'hypertension', 'HbA1c_level', 'HbA1c_level', 'HbA1c_level', 'hypertension', 'blood_glucose_level', 'HbA1c_level', 'blood_glucose_level', 'smoking_history_ever', 'blood_glucose_level', 'blood_glucose_level', 'HbA1c_level', 'blood_glucose_level', 'blood_glucose_level', 'HbA1c_level', 'hypertension', 'blood_glucose_level', 'heart_disease', 'HbA1c_level', 'HbA1c_level', 'blood_glucose_level', 'hypertension', 'smoking_history_never', 'HbA1c_level', 'smoking_history_never', 'HbA1c_level', 'HbA1c_level', 'bmi', 'HbA1c_level', 'blood_glucose_level', 'blood_glucose_level', 'blood_glucose_level', 'HbA1c_level', 'blood_glucose_level', 'HbA1c_level', 'HbA1c_level', 'HbA1c_level', 'HbA1c_level', 'blood_glucose_level']\n"
     ]
    },
    {
     "name": "stderr",
     "output_type": "stream",
     "text": [
      "\n"
     ]
    }
   ],
   "source": [
    "import shap\n",
    "import numpy as np\n",
    "\n",
    "# Example: Assuming you have shap_values calculated already\n",
    "# Ensure shap_values corresponds to the number of instances in X_test\n",
    "shap_values = explainer.shap_values(X_test_subsample)  # Assuming X_test_subsample is used here\n",
    "\n",
    "# Extract feature names (if available from your dataset)\n",
    "feature_names = X_test_subsample.columns\n",
    "\n",
    "# List to hold the most important features for each instance\n",
    "important_features = []\n",
    "\n",
    "# Iterate over the instances in the test set (up to the length of X_test_subsample)\n",
    "for i in range(len(X_test_subsample)):  # Ensure you are iterating over the correct range\n",
    "    feature_contributions = shap_values[i]  # Get SHAP values for instance i\n",
    "    max_feature_index = np.argmax(np.abs(feature_contributions))  # Get the index of the most important feature\n",
    "    important_features.append(feature_names[max_feature_index])  # Add the name of the most important feature\n",
    "\n",
    "# Optionally print or return the important features\n",
    "print(important_features)\n"
   ]
  },
  {
   "cell_type": "code",
   "execution_count": 22,
   "metadata": {},
   "outputs": [],
   "source": [
    "def load_and_predict_with_reason(new_input):\n",
    "    svm_model = joblib.load('svm_model.pkl')\n",
    "    scaler = joblib.load('scaler.pkl')\n",
    "\n",
    "    new_input_scaled = scaler.transform(new_input)\n",
    "    prediction = svm_model.predict(new_input_scaled)\n",
    "    prediction = np.where(prediction == -1, 0, 1)[0]\n",
    "\n",
    "    explainer = shap.KernelExplainer(svm_model.predict, scaler.transform(X_train))\n",
    "    shap_values = explainer.shap_values(new_input_scaled)\n",
    "\n",
    "    max_feature_index = np.argmax(np.abs(shap_values[0]))\n",
    "    primary_reason = feature_names[max_feature_index]\n",
    "\n",
    "    return prediction, primary_reason\n"
   ]
  },
  {
   "cell_type": "code",
   "execution_count": 23,
   "metadata": {},
   "outputs": [
    {
     "name": "stderr",
     "output_type": "stream",
     "text": [
      "C:\\Users\\ANEESH VISHWA\\AppData\\Roaming\\Python\\Python312\\site-packages\\sklearn\\base.py:493: UserWarning: X does not have valid feature names, but StandardScaler was fitted with feature names\n",
      "  warnings.warn(\n",
      "Using 800 background data samples could cause slower run times. Consider using shap.sample(data, K) or shap.kmeans(data, K) to summarize the background as K samples.\n"
     ]
    },
    {
     "name": "stderr",
     "output_type": "stream",
     "text": [
      "100%|██████████| 1/1 [00:01<00:00,  1.08s/it]"
     ]
    },
    {
     "name": "stdout",
     "output_type": "stream",
     "text": [
      "Predicted class: 1\n",
      "Most important feature index: 1\n"
     ]
    },
    {
     "name": "stderr",
     "output_type": "stream",
     "text": [
      "\n"
     ]
    }
   ],
   "source": [
    "from sklearn.preprocessing import StandardScaler\n",
    "from sklearn.svm import SVC\n",
    "import shap\n",
    "import numpy as np\n",
    "\n",
    "# Assuming your dataset is already loaded and processed into X_train and y_train\n",
    "# Ensure X_train has 8 features\n",
    "X_train = X_train.iloc[:, :8]  # Slicing X_train to have only 8 features if it has more\n",
    "\n",
    "# Create a StandardScaler and fit it on the training data (X_train)\n",
    "scaler = StandardScaler()\n",
    "X_train_scaled = scaler.fit_transform(X_train)  # Fit on training data and transform it\n",
    "\n",
    "# Define and train the SVM model on the scaled training data\n",
    "svm_model = SVC(kernel='linear', C=1, random_state=42)\n",
    "svm_model.fit(X_train_scaled, y_train)\n",
    "\n",
    "# Ensure new_input has 8 features (matching the model's input size)\n",
    "new_input = np.array([[1, 76.0, 0, 0, 0, 23.93, 5.8, 130]])  # Replace with actual data\n",
    "new_input = new_input[:, :8]  # Only take the first 8 features, slice to match X_train\n",
    "\n",
    "# Scale the new input using the scaler that was fit on X_train\n",
    "new_input_scaled = scaler.transform(new_input)\n",
    "\n",
    "# Predict using the trained SVM model\n",
    "prediction = svm_model.predict(new_input_scaled)\n",
    "prediction = np.where(prediction == -1, 0, 1)[0]  # Convert from -1 to 0 (if applicable)\n",
    "\n",
    "# Create an explainer (use the training data with the same number of features)\n",
    "explainer = shap.KernelExplainer(svm_model.predict, X_train_scaled)\n",
    "\n",
    "# Calculate SHAP values for the new input\n",
    "shap_values = explainer.shap_values(new_input_scaled)\n",
    "\n",
    "# Determine the most important feature\n",
    "max_feature_index = np.argmax(np.abs(shap_values[0]))  # Index of the most important feature\n",
    "\n",
    "# Optionally, print or return the result\n",
    "print(f\"Predicted class: {prediction}\")\n",
    "print(f\"Most important feature index: {max_feature_index}\")\n"
   ]
  },
  {
   "cell_type": "code",
   "execution_count": 24,
   "metadata": {},
   "outputs": [
    {
     "name": "stderr",
     "output_type": "stream",
     "text": [
      "C:\\Users\\ANEESH VISHWA\\AppData\\Roaming\\Python\\Python312\\site-packages\\sklearn\\base.py:493: UserWarning: X does not have valid feature names, but StandardScaler was fitted with feature names\n",
      "  warnings.warn(\n",
      "Using 800 background data samples could cause slower run times. Consider using shap.sample(data, K) or shap.kmeans(data, K) to summarize the background as K samples.\n",
      "100%|██████████| 1/1 [00:00<00:00,  1.01it/s]"
     ]
    },
    {
     "name": "stdout",
     "output_type": "stream",
     "text": [
      "Predicted Class: 1\n",
      "Primary Reason: hypertension\n"
     ]
    },
    {
     "name": "stderr",
     "output_type": "stream",
     "text": [
      "\n"
     ]
    }
   ],
   "source": [
    "from sklearn.preprocessing import StandardScaler\n",
    "from sklearn.svm import SVC\n",
    "import shap\n",
    "import numpy as np\n",
    "\n",
    "# Assuming your dataset is already loaded and processed into X_train and y_train\n",
    "# Ensure X_train has 8 features\n",
    "X_train = X_train.iloc[:, :8]  # Slicing X_train to have only 8 features if it has more\n",
    "\n",
    "# Create a StandardScaler and fit it on the training data (X_train)\n",
    "scaler = StandardScaler()\n",
    "X_train_scaled = scaler.fit_transform(X_train)  # Fit on training data and transform it\n",
    "\n",
    "# Define and train the SVM model on the scaled training data\n",
    "svm_model = SVC(kernel='linear', C=1, random_state=42)\n",
    "svm_model.fit(X_train_scaled, y_train)\n",
    "\n",
    "# Ensure new_input has 8 features (matching the model's input size)\n",
    "new_input = np.array([[1, 76.0, 0, 0, 0, 23.93, 5.8, 130]])  # Replace with actual data\n",
    "new_input = new_input[:, :8]  # Only take the first 8 features, slice to match X_train\n",
    "\n",
    "# Scale the new input using the scaler that was fit on X_train\n",
    "new_input_scaled = scaler.transform(new_input)\n",
    "\n",
    "# Predict using the trained SVM model\n",
    "predicted_class = svm_model.predict(new_input_scaled)\n",
    "predicted_class = np.where(predicted_class == -1, 0, 1)[0]  # Convert from -1 to 0 (if applicable)\n",
    "\n",
    "# Create an explainer (use the training data with the same number of features)\n",
    "explainer = shap.KernelExplainer(svm_model.predict, X_train_scaled)\n",
    "\n",
    "# Calculate SHAP values for the new input\n",
    "shap_values = explainer.shap_values(new_input_scaled)\n",
    "\n",
    "# Determine the most important feature\n",
    "max_feature_index = np.argmax(np.abs(shap_values[0]))  # Index of the most important feature\n",
    "\n",
    "# Get the feature names (assumes you have column names in X_train)\n",
    "feature_names = X_train.columns[:8]\n",
    "\n",
    "# Get the name of the most important feature\n",
    "primary_reason = feature_names[max_feature_index]\n",
    "\n",
    "# Print the results\n",
    "print(f\"Predicted Class: {predicted_class}\")\n",
    "print(f\"Primary Reason: {primary_reason}\")\n"
   ]
  }
 ],
 "metadata": {
  "kernelspec": {
   "display_name": "Python 3",
   "language": "python",
   "name": "python3"
  },
  "language_info": {
   "codemirror_mode": {
    "name": "ipython",
    "version": 3
   },
   "file_extension": ".py",
   "mimetype": "text/x-python",
   "name": "python",
   "nbconvert_exporter": "python",
   "pygments_lexer": "ipython3",
   "version": "3.12.4"
  }
 },
 "nbformat": 4,
 "nbformat_minor": 2
}
